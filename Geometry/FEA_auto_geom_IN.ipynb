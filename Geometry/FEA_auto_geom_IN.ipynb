{
 "cells": [
  {
   "cell_type": "code",
   "execution_count": 2,
   "id": "fd9abd39",
   "metadata": {},
   "outputs": [],
   "source": [
    "from pint import Quantity\n",
    "from ansys.geometry.core import launch_modeler\n",
    "from ansys.geometry.core import Modeler\n",
    "from ansys.geometry.core.misc import UNITS, Distance\n",
    "from ansys.geometry.core.sketch import Sketch\n",
    "from ansys.geometry.core.designer.design import Design\n",
    "import math\n",
    "from pathlib import Path\n",
    "from ansys.geometry.core.designer.body import Body\n",
    "from ansys.geometry.core.math import (\n",
    "    UNITVECTOR3D_Z,\n",
    "    UNITVECTOR3D_X,\n",
    "    UNITVECTOR3D_Y,\n",
    "    Vector3D,\n",
    "    Plane,\n",
    "    Point2D,\n",
    "    Point3D\n",
    ")\n",
    "import time\n",
    "import sys\n",
    "\n",
    "start_time = time.time()"
   ]
  },
  {
   "cell_type": "code",
   "execution_count": 3,
   "id": "ca733739",
   "metadata": {},
   "outputs": [],
   "source": [
    "l = 0.6\n",
    "b = 0.05\n",
    "t = 0.05\n",
    "l_optics = 0.6\n",
    "b_optics = 0.042\n",
    "cu_kuan = 0.008\n",
    "cu_height = 0.008\n",
    "cu_optics = 0.002\n",
    "cu_D = 0.006\n",
    "\n",
    "cao_optics = 0.031 \n",
    "cao_kuan = 0.007\n",
    "cao_height = 0.007\n",
    "\n",
    "cu_l = 0.5 #铜管长度"
   ]
  },
  {
   "cell_type": "code",
   "execution_count": 4,
   "id": "7feadba9",
   "metadata": {},
   "outputs": [],
   "source": [
    "origin = Point3D([0, 0, 0])\n",
    "\n",
    "plane = Plane(origin, direction_x=[1, 0, 0], direction_y=[0, 1, 0])\n",
    "sketch = Sketch()\n",
    "sketch_mirror=(\n",
    "    sketch.segment(Point2D([l/2,b/2]), Point2D([l/2,-b/2]))\n",
    "        .segment_to_point(Point2D([-l/2,-b/2]))\n",
    "        .segment_to_point(Point2D([-l/2,b/2]))\n",
    "        .segment_to_point(Point2D([l/2,b/2]))\n",
    "            )\n",
    "modeler = launch_modeler()\n",
    "\n",
    "design = modeler.create_design(\"M2\")  # 文件名后缀使用 cu_l*1000\n",
    "mirror_part = design.add_component(\"Mirror\")\n",
    "# Extrude the sketch to create the body\n",
    "body_mirror = mirror_part.extrude_sketch(\"Mirror\",sketch_mirror, -t * UNITS.m)"
   ]
  },
  {
   "cell_type": "code",
   "execution_count": 5,
   "id": "19f2451f",
   "metadata": {},
   "outputs": [],
   "source": [
    "yy, zz = b/2, -cu_optics\n",
    "origin1 = Point3D([cu_l/2, yy, zz])\n",
    "plane1 = Plane(origin1, direction_x=[0, 0, 1], direction_y=[0, 1, 0])\n",
    "sketch = Sketch(plane1)\n",
    "OFHC_n_sketch = (\n",
    "        sketch.segment(Point2D([0,0]), Point2D([0,cu_kuan]))\n",
    "        .segment_to_point(Point2D([-cu_kuan,cu_kuan]))\n",
    "        .segment_to_point(Point2D([-cu_kuan,0]))\n",
    "        .segment_to_point(Point2D([0,0]))\n",
    "        .circle(center=Point2D([-cu_kuan/2, cu_kuan/2 ]), radius=cu_D/2)\n",
    "    )\n",
    "OFHCn_part = design.add_component(\"OFHC_NEG\")\n",
    "body_cu_neg = OFHCn_part.extrude_sketch(\"OFHC_NEG\", OFHC_n_sketch, cu_l * UNITS.m)"
   ]
  },
  {
   "cell_type": "code",
   "execution_count": 6,
   "id": "350aef5b",
   "metadata": {},
   "outputs": [],
   "source": [
    "yy1 = -b/2-cu_kuan\n",
    "origin1 = Point3D([cu_l/2, yy1, zz])\n",
    "plane1 = Plane(origin1, direction_x=[0, 0, 1], direction_y=[0, 1, 0])\n",
    "sketch = Sketch(plane1)\n",
    "OFHC_m_sketch = (\n",
    "        sketch.segment(Point2D([0,0]), Point2D([0,cu_kuan]))\n",
    "        .segment_to_point(Point2D([-cu_kuan,cu_kuan]))\n",
    "        .segment_to_point(Point2D([-cu_kuan,0]))\n",
    "        .segment_to_point(Point2D([0,0]))\n",
    "        .circle(center=Point2D([-cu_kuan/2, cu_kuan/2 ]), radius=cu_D/2)\n",
    "    )\n",
    "OFHCm_part = design.add_component(\"OFHC_MID\")\n",
    "body_cu_middle = OFHCm_part.extrude_sketch(\"OFHC_MID\", OFHC_m_sketch, cu_l * UNITS.m)"
   ]
  },
  {
   "cell_type": "code",
   "execution_count": 7,
   "id": "1ce70612",
   "metadata": {},
   "outputs": [],
   "source": [
    "sketch = Sketch(plane)\n",
    "sketch_opt=(\n",
    "    sketch.segment(Point2D([l_optics/2,b_optics/2]), Point2D([l_optics/2,-b_optics/2]))\n",
    "        .segment_to_point(Point2D([-l_optics/2,-b_optics/2]))\n",
    "        .segment_to_point(Point2D([-l_optics/2,b_optics/2]))\n",
    "        .segment_to_point(Point2D([l_optics/2,b_optics/2]))\n",
    "            )\n",
    "\n",
    "imprint_face = body_mirror.imprint_projected_curves(direction=UNITVECTOR3D_Z,sketch=sketch_opt, closest_face=True)"
   ]
  },
  {
   "cell_type": "code",
   "execution_count": 8,
   "id": "85e37993",
   "metadata": {},
   "outputs": [],
   "source": [
    "faces_mirror = body_mirror.faces\n",
    "faces_cu_neg = body_cu_neg.faces\n",
    "faces_cu_mid = body_cu_middle.faces"
   ]
  },
  {
   "cell_type": "code",
   "execution_count": 9,
   "id": "a713a744",
   "metadata": {},
   "outputs": [],
   "source": [
    "def create_conn_named_selection(faces_mine, indices, selection_name):\n",
    "        # 定义一个空列表，用来收集 faces_mine 中指定的面\n",
    "        faces_to_include = []\n",
    "\n",
    "        # 如果 indices 是单个数字\n",
    "        if isinstance(indices, int):\n",
    "            indices = [indices]  # 将单个数字转为列表\n",
    "\n",
    "        # 如果 indices 是一个范围（例如 '3-5' 格式）\n",
    "        elif isinstance(indices, str) and '-' in indices:\n",
    "            start, end = map(int, indices.split('-'))\n",
    "            indices = list(range(start, end + 1))  # 转换为连续的数字范围\n",
    "\n",
    "        # 如果 indices 是一个列表或集合，直接处理\n",
    "        if isinstance(indices, (list, set)):\n",
    "            for idx in indices:\n",
    "                if 0 <= idx < len(faces_mine):  # 检查索引是否在有效范围内\n",
    "                    faces_to_include.append(faces_mine[idx])\n",
    "        else:\n",
    "            raise ValueError(\"Invalid indices format. Must be an integer, a list, or a range string.\")\n",
    "\n",
    "        # 创建命名选择\n",
    "        design.create_named_selection(selection_name, faces=faces_to_include)"
   ]
  },
  {
   "cell_type": "code",
   "execution_count": 10,
   "id": "526cd38a",
   "metadata": {},
   "outputs": [
    {
     "data": {
      "text/plain": [
       "ansys.geometry.core.designer.selection.NamedSelection 0x219f1c77fa0\n",
       "  Name                 : ns_cu\n",
       "  Id                   : 0:367\n",
       "  N Bodies             : 2\n",
       "  N Faces              : 0\n",
       "  N Edges              : 0\n",
       "  N Beams              : 0\n",
       "  N Design Points      : 0"
      ]
     },
     "execution_count": 10,
     "metadata": {},
     "output_type": "execute_result"
    }
   ],
   "source": [
    "##不开夹持槽的时候命名如下！！！\n",
    "create_conn_named_selection(faces_mirror,6, \"optics_face\")\n",
    "create_conn_named_selection(faces_cu_neg, 6, \"sanre_mid\")\n",
    "create_conn_named_selection(faces_cu_mid, 6, \"sanre_mid\")\n",
    "create_conn_named_selection(faces_cu_neg, 0, \"cu_conn_mirror_neg\")\n",
    "create_conn_named_selection(faces_cu_mid, 2, \"cu_conn_mirror_mid\")\n",
    "create_conn_named_selection(faces_mirror, 3, \"mirror_conn_cu_neg\")\n",
    "create_conn_named_selection(faces_mirror, 1, \"mirror_conn_cu_mid\")\n",
    "\n",
    "# 加入体的NamedSelection\n",
    "design.create_named_selection(\"ns_mirror\", bodies=[body_mirror])\n",
    "design.create_named_selection(\"ns_cu\", bodies=[body_cu_middle,body_cu_neg])"
   ]
  },
  {
   "cell_type": "code",
   "execution_count": 11,
   "id": "a6920454",
   "metadata": {},
   "outputs": [],
   "source": [
    "origin = Point3D([l/2, 0, 0])\n",
    "plane = Plane(origin, direction_x=Vector3D([0,0,1]), direction_y=Vector3D([0,1,0]))\n",
    "sketch = Sketch(plane)\n",
    "sketch_cao = (\n",
    "    sketch.segment(Point2D([-cao_optics,-b/2]), Point2D([-cao_optics,-b/2+cao_kuan]))\n",
    "    .segment_to_point(Point2D([-cao_optics-cao_height,-b/2+cao_kuan]))\n",
    "    .segment_to_point(Point2D([-cao_optics-cao_height,-b/2]))\n",
    "    .segment_to_point(Point2D([-cao_optics,-b/2]))\n",
    ")\n",
    "body_cao = design.extrude_sketch(\"cao\", sketch_cao, l * UNITS.m)\n",
    "mirrored_body_cao = body_cao.copy(body_cao.parent_component,\"cao2\")\n",
    "mirrored_body_cao.mirror(Plane(direction_x=[1,0,0],direction_y=[0,0,1]))\n",
    "body_mirror.subtract(body_cao)\n",
    "body_mirror.subtract(mirrored_body_cao)"
   ]
  },
  {
   "cell_type": "code",
   "execution_count": 12,
   "id": "868a1101",
   "metadata": {},
   "outputs": [],
   "source": [
    "# ##开夹持槽的时候命名如下！！！\n",
    "# create_conn_named_selection(faces_mirror,4, \"optics_face\")\n",
    "# create_conn_named_selection(faces_cu_neg, 6, \"sanre_mid\")\n",
    "# create_conn_named_selection(faces_cu_mid, 6, \"sanre_mid\")\n",
    "# create_conn_named_selection(faces_cu_neg, 0, \"cu_conn_mirror_neg\")\n",
    "# create_conn_named_selection(faces_cu_mid, 2, \"cu_conn_mirror_mid\")\n",
    "# create_conn_named_selection(faces_mirror, 14, \"mirror_conn_cu_neg\")\n",
    "# create_conn_named_selection(faces_mirror, 10, \"mirror_conn_cu_mid\")"
   ]
  },
  {
   "cell_type": "code",
   "execution_count": null,
   "id": "63045408",
   "metadata": {},
   "outputs": [],
   "source": []
  },
  {
   "cell_type": "code",
   "execution_count": null,
   "id": "3bfba49c",
   "metadata": {},
   "outputs": [],
   "source": []
  },
  {
   "cell_type": "code",
   "execution_count": null,
   "id": "3185ece8",
   "metadata": {},
   "outputs": [],
   "source": []
  }
 ],
 "metadata": {
  "kernelspec": {
   "display_name": "deepnn",
   "language": "python",
   "name": "python3"
  },
  "language_info": {
   "codemirror_mode": {
    "name": "ipython",
    "version": 3
   },
   "file_extension": ".py",
   "mimetype": "text/x-python",
   "name": "python",
   "nbconvert_exporter": "python",
   "pygments_lexer": "ipython3",
   "version": "3.10.18"
  }
 },
 "nbformat": 4,
 "nbformat_minor": 5
}
